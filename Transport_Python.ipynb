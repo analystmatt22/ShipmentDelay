{
 "cells": [
  {
   "cell_type": "code",
   "execution_count": 19,
   "id": "9592f662",
   "metadata": {},
   "outputs": [
    {
     "data": {
      "text/html": [
       "<div>\n",
       "<style scoped>\n",
       "    .dataframe tbody tr th:only-of-type {\n",
       "        vertical-align: middle;\n",
       "    }\n",
       "\n",
       "    .dataframe tbody tr th {\n",
       "        vertical-align: top;\n",
       "    }\n",
       "\n",
       "    .dataframe thead th {\n",
       "        text-align: right;\n",
       "    }\n",
       "</style>\n",
       "<table border=\"1\" class=\"dataframe\">\n",
       "  <thead>\n",
       "    <tr style=\"text-align: right;\">\n",
       "      <th></th>\n",
       "    </tr>\n",
       "  </thead>\n",
       "  <tbody>\n",
       "  </tbody>\n",
       "</table>\n",
       "</div>"
      ],
      "text/plain": [
       "Empty DataFrame\n",
       "Columns: []\n",
       "Index: []"
      ]
     },
     "execution_count": 19,
     "metadata": {},
     "output_type": "execute_result"
    }
   ],
   "source": [
    "import pandas as pd\n",
    "import numpy as np\n",
    "\n",
    "# Load the Excel file\n",
    "data = pd.read_excel(\"Transportation.xlsx\", header = [0])\n",
    "\n",
    "# Show the first few rows of the dataframe\n",
    "data.head()"
   ]
  },
  {
   "cell_type": "markdown",
   "id": "a06a11de",
   "metadata": {},
   "source": [
    "It seems there was an issue reading the file, as the resulting DataFrame is empty. This could happen due to several reasons such as incorrect formatting, the data being located on a different sheet than the default one, or other issues related to the file's structure.\n",
    "\n",
    "Let's try to identify the issue by checking the names of the sheets in your Excel file."
   ]
  },
  {
   "cell_type": "code",
   "execution_count": 20,
   "id": "fccb467c",
   "metadata": {},
   "outputs": [
    {
     "data": {
      "text/plain": [
       "Series([], dtype: object)"
      ]
     },
     "execution_count": 20,
     "metadata": {},
     "output_type": "execute_result"
    }
   ],
   "source": [
    "data.dtypes"
   ]
  },
  {
   "cell_type": "code",
   "execution_count": 87,
   "id": "a616898b",
   "metadata": {},
   "outputs": [
    {
     "data": {
      "text/plain": [
       "['Summary', 'Database']"
      ]
     },
     "execution_count": 87,
     "metadata": {},
     "output_type": "execute_result"
    }
   ],
   "source": [
    "# Load the Excel file again, this time only to get the sheet names\n",
    "excel_file = pd.ExcelFile(\"Transportation.xlsx\")\n",
    "\n",
    "# Get the sheet names\n",
    "sheet_names = excel_file.sheet_names\n",
    "\n",
    "sheet_names"
   ]
  },
  {
   "cell_type": "markdown",
   "id": "6c42d0c4",
   "metadata": {},
   "source": [
    "The Excel file contains two sheets named 'Summary' and 'Database'. The data might be located in one of these sheets rather than the default one. Let's try reading the data from these sheets separately and see if we can retrieve your data."
   ]
  },
  {
   "cell_type": "code",
   "execution_count": 22,
   "id": "905b2e65",
   "metadata": {
    "scrolled": true
   },
   "outputs": [
    {
     "data": {
      "text/plain": [
       "(Empty DataFrame\n",
       " Columns: []\n",
       " Index: [],\n",
       "   Entry ID      Freight forwarder    Transporter Depart From Arrive To  \\\n",
       " 0     DL-1  Freight forwarder ABC  Transporter A   Mogadishu  Victoria   \n",
       " 1     DL-8  Freight forwarder ABC  Transporter A   Mogadishu     Sanaa   \n",
       " 2     DL-9  Freight forwarder ABC  Transporter A   Mogadishu  Victoria   \n",
       " 3    DL-10  Freight forwarder ABC  Transporter A   Mogadishu     Alger   \n",
       " 4    DL-11  Freight forwarder ABC  Transporter A     Mombasa     Alger   \n",
       " \n",
       "    Loading Date  Offloading Date Client Invoice status  \\\n",
       " 0         44568          44588.0              Invoiced   \n",
       " 1         44564          44589.0                  Paid   \n",
       " 2         44570          44588.0                  Paid   \n",
       " 3         44573          44589.0                  Paid   \n",
       " 4         44568          44589.0                  Paid   \n",
       " \n",
       "   Transporter Invoice status Service / Product: Product Name  Gross Weight(t)  \\\n",
       " 0                   Invoiced                  TRANSPORTATION           27.108   \n",
       " 1                   Invoiced                  TRANSPORTATION           31.124   \n",
       " 2                   Invoiced                  TRANSPORTATION           31.124   \n",
       " 3                   Invoiced                  TRANSPORTATION           31.124   \n",
       " 4                   Invoiced                  TRANSPORTATION           31.124   \n",
       " \n",
       "    Client Rate per t Client Currency  Supplier Rate per t Supplier Currency  \\\n",
       " 0                600             USD                  300               USD   \n",
       " 1                600             USD                  300               USD   \n",
       " 2                600             USD                  300               USD   \n",
       " 3                600             USD                  300               USD   \n",
       " 4                600             USD                  300               USD   \n",
       " \n",
       "    POD Attached  Delay at toll gate in days  Delay at workshop in days  \\\n",
       " 0             1                         2.0                       3.00   \n",
       " 1             0                         2.5                       3.75   \n",
       " 2             1                         1.8                       2.70   \n",
       " 3             1                         1.6                       2.40   \n",
       " 4             1                         2.1                       3.15   \n",
       " \n",
       "    Delay at border in days  \n",
       " 0                    2.500  \n",
       " 1                    3.125  \n",
       " 2                    2.250  \n",
       " 3                    2.000  \n",
       " 4                    2.625  )"
      ]
     },
     "execution_count": 22,
     "metadata": {},
     "output_type": "execute_result"
    }
   ],
   "source": [
    "# Load the data from the 'Summary' sheet\n",
    "data_summary = pd.read_excel(excel_file, 'Summary')\n",
    "\n",
    "# Load the data from the 'Database' sheet\n",
    "data_database = pd.read_excel(excel_file, 'Database')\n",
    "\n",
    "# Show the first few rows of each dataframe\n",
    "data_summary.head(), data_database.head()"
   ]
  },
  {
   "cell_type": "code",
   "execution_count": 54,
   "id": "526a3dd9",
   "metadata": {
    "scrolled": true
   },
   "outputs": [
    {
     "data": {
      "text/plain": [
       "(3581, 21)"
      ]
     },
     "execution_count": 54,
     "metadata": {},
     "output_type": "execute_result"
    }
   ],
   "source": [
    "data_database.shape"
   ]
  },
  {
   "cell_type": "code",
   "execution_count": 55,
   "id": "0d82c907",
   "metadata": {},
   "outputs": [
    {
     "data": {
      "text/plain": [
       "Index(['Entry ID', 'Freight forwarder', 'Transporter', 'Depart From',\n",
       "       'Arrive To', 'Loading Date', 'Offloading Date', 'Client Invoice status',\n",
       "       'Transporter Invoice status', 'Service / Product: Product Name',\n",
       "       'Gross Weight(t)', 'Client Rate per t', 'Client Currency',\n",
       "       'Supplier Rate per t', 'Supplier Currency', 'POD Attached',\n",
       "       'Delay at toll gate in days', 'Delay at workshop in days',\n",
       "       'Delay at border in days', 'Transit Time', 'Total Delay'],\n",
       "      dtype='object')"
      ]
     },
     "execution_count": 55,
     "metadata": {},
     "output_type": "execute_result"
    }
   ],
   "source": [
    "data_database.keys()"
   ]
  },
  {
   "cell_type": "code",
   "execution_count": 52,
   "id": "6b458c87",
   "metadata": {},
   "outputs": [
    {
     "data": {
      "text/plain": [
       "array(['Freight forwarder ABC'], dtype=object)"
      ]
     },
     "execution_count": 52,
     "metadata": {},
     "output_type": "execute_result"
    }
   ],
   "source": [
    "data_database['Freight forwarder'].unique() #Avoid this variable from the analysis"
   ]
  },
  {
   "cell_type": "code",
   "execution_count": 34,
   "id": "05e36f22",
   "metadata": {},
   "outputs": [
    {
     "data": {
      "text/plain": [
       "array(['Transporter A', 'Transporter C', 'Transporter B'], dtype=object)"
      ]
     },
     "execution_count": 34,
     "metadata": {},
     "output_type": "execute_result"
    }
   ],
   "source": [
    "data_database['Transporter'].unique()"
   ]
  },
  {
   "cell_type": "code",
   "execution_count": 56,
   "id": "086df409",
   "metadata": {},
   "outputs": [
    {
     "data": {
      "text/plain": [
       "array(['TRANSPORTATION', 'FOB', 'SECURITY & ESCORT'], dtype=object)"
      ]
     },
     "execution_count": 56,
     "metadata": {},
     "output_type": "execute_result"
    }
   ],
   "source": [
    "data_database['Service / Product: Product Name'].unique()"
   ]
  },
  {
   "cell_type": "markdown",
   "id": "307e262b",
   "metadata": {},
   "source": [
    "##### Service/Product is also not a major factor as all the 3 different values in this variable, are carried by multiple transporters. Instead we shall do an analytics on the transporters and their respective3 delay time."
   ]
  },
  {
   "cell_type": "raw",
   "id": "f16593f5",
   "metadata": {},
   "source": [
    "The 'Summary' sheet in the Excel file is empty, but the 'Database' sheet contains the following data:\n",
    "\n",
    "    Entry ID: Identifier for the entry (e.g., \"DL-1\").\n",
    "    Freight forwarder: The freight forwarder involved in the logistics (e.g., \"Freight forwarder ABC\").\n",
    "    Transporter: The transporter involved in the logistics (e.g., \"Transporter A\").\n",
    "    Depart From: The departure location (e.g., \"Mogadishu\").\n",
    "    Arrive To: The arrival location (e.g., \"Victoria\").\n",
    "    Loading Date: The date when the freight was loaded.\n",
    "    Offloading Date: The date when the freight was offloaded.\n",
    "    Client Invoice status: The invoice status with the client (e.g., \"Invoiced\", \"Paid\").\n",
    "    Transporter Invoice status: The invoice status with the transporter (e.g., \"Invoiced\").\n",
    "    Service / Product: The service or product involved in the logistics (e.g., \"TRANSPORTATION\").\n",
    "    Product Name: The name of the product (in this dataset, it seems to be identical to the 'Service / Product' column).\n",
    "    Gross Weight(t): The gross weight of the freight in tonnes.\n",
    "    Client Rate per t: The client rate per tonne.\n",
    "    Client Currency: The currency of the client's payment (e.g., \"USD\").\n",
    "    Supplier Rate per t: The supplier rate per tonne.\n",
    "    Supplier Currency: The currency of the supplier's payment (e.g., \"USD\").\n",
    "    POD Attached: Whether a Proof of Delivery (POD) is attached (1 = Yes, 0 = No).\n",
    "    Delay at toll gate in days: The delay at the toll gate in days.\n",
    "    Delay at workshop in days: The delay at the workshop in days.\n",
    "    Delay at border in days: The delay at the border in days.\n",
    "    Transit time: TIme from the origin to the destination"
   ]
  },
  {
   "cell_type": "markdown",
   "id": "90d621a5",
   "metadata": {},
   "source": [
    "We have 3 variables which shows the delay in delivery at certain points such as workshop, border and toll gate.\n",
    "\n",
    "We have 2 dates such as loading date and offloading date.\n",
    "\n",
    "We have 4 rates variables such as client rates, supplier rates and their currencies.\n",
    "\n",
    "We have 2 location variables such as Arrive to, and Depart from.\n",
    "\n",
    "We have 2 company variables of Freight forwarder and transporter.\n",
    "\n",
    "We have 2 invoice update variables such as Client invoice status and Transporter invoice status.\n",
    "\n",
    "We have other variables such as Entry ID, Service/Product, Product name, POD attached and gross weight.\n",
    "\n",
    "Total: 20 variables."
   ]
  },
  {
   "cell_type": "code",
   "execution_count": 23,
   "id": "7c706a5a",
   "metadata": {},
   "outputs": [
    {
     "data": {
      "text/html": [
       "<div>\n",
       "<style scoped>\n",
       "    .dataframe tbody tr th:only-of-type {\n",
       "        vertical-align: middle;\n",
       "    }\n",
       "\n",
       "    .dataframe tbody tr th {\n",
       "        vertical-align: top;\n",
       "    }\n",
       "\n",
       "    .dataframe thead th {\n",
       "        text-align: right;\n",
       "    }\n",
       "</style>\n",
       "<table border=\"1\" class=\"dataframe\">\n",
       "  <thead>\n",
       "    <tr style=\"text-align: right;\">\n",
       "      <th></th>\n",
       "      <th>Entry ID</th>\n",
       "      <th>Freight forwarder</th>\n",
       "      <th>Transporter</th>\n",
       "      <th>Depart From</th>\n",
       "      <th>Arrive To</th>\n",
       "      <th>Loading Date</th>\n",
       "      <th>Offloading Date</th>\n",
       "      <th>Client Invoice status</th>\n",
       "      <th>Transporter Invoice status</th>\n",
       "      <th>Service / Product: Product Name</th>\n",
       "      <th>Gross Weight(t)</th>\n",
       "      <th>Client Rate per t</th>\n",
       "      <th>Client Currency</th>\n",
       "      <th>Supplier Rate per t</th>\n",
       "      <th>Supplier Currency</th>\n",
       "      <th>POD Attached</th>\n",
       "      <th>Delay at toll gate in days</th>\n",
       "      <th>Delay at workshop in days</th>\n",
       "      <th>Delay at border in days</th>\n",
       "      <th>Transit Time</th>\n",
       "    </tr>\n",
       "  </thead>\n",
       "  <tbody>\n",
       "    <tr>\n",
       "      <th>0</th>\n",
       "      <td>DL-1</td>\n",
       "      <td>Freight forwarder ABC</td>\n",
       "      <td>Transporter A</td>\n",
       "      <td>Mogadishu</td>\n",
       "      <td>Victoria</td>\n",
       "      <td>2022-01-07</td>\n",
       "      <td>2022-01-27</td>\n",
       "      <td>Invoiced</td>\n",
       "      <td>Invoiced</td>\n",
       "      <td>TRANSPORTATION</td>\n",
       "      <td>27.108</td>\n",
       "      <td>600</td>\n",
       "      <td>USD</td>\n",
       "      <td>300</td>\n",
       "      <td>USD</td>\n",
       "      <td>1</td>\n",
       "      <td>2.0</td>\n",
       "      <td>3.00</td>\n",
       "      <td>2.500</td>\n",
       "      <td>20.0</td>\n",
       "    </tr>\n",
       "    <tr>\n",
       "      <th>1</th>\n",
       "      <td>DL-8</td>\n",
       "      <td>Freight forwarder ABC</td>\n",
       "      <td>Transporter A</td>\n",
       "      <td>Mogadishu</td>\n",
       "      <td>Sanaa</td>\n",
       "      <td>2022-01-03</td>\n",
       "      <td>2022-01-28</td>\n",
       "      <td>Paid</td>\n",
       "      <td>Invoiced</td>\n",
       "      <td>TRANSPORTATION</td>\n",
       "      <td>31.124</td>\n",
       "      <td>600</td>\n",
       "      <td>USD</td>\n",
       "      <td>300</td>\n",
       "      <td>USD</td>\n",
       "      <td>0</td>\n",
       "      <td>2.5</td>\n",
       "      <td>3.75</td>\n",
       "      <td>3.125</td>\n",
       "      <td>25.0</td>\n",
       "    </tr>\n",
       "    <tr>\n",
       "      <th>2</th>\n",
       "      <td>DL-9</td>\n",
       "      <td>Freight forwarder ABC</td>\n",
       "      <td>Transporter A</td>\n",
       "      <td>Mogadishu</td>\n",
       "      <td>Victoria</td>\n",
       "      <td>2022-01-09</td>\n",
       "      <td>2022-01-27</td>\n",
       "      <td>Paid</td>\n",
       "      <td>Invoiced</td>\n",
       "      <td>TRANSPORTATION</td>\n",
       "      <td>31.124</td>\n",
       "      <td>600</td>\n",
       "      <td>USD</td>\n",
       "      <td>300</td>\n",
       "      <td>USD</td>\n",
       "      <td>1</td>\n",
       "      <td>1.8</td>\n",
       "      <td>2.70</td>\n",
       "      <td>2.250</td>\n",
       "      <td>18.0</td>\n",
       "    </tr>\n",
       "    <tr>\n",
       "      <th>3</th>\n",
       "      <td>DL-10</td>\n",
       "      <td>Freight forwarder ABC</td>\n",
       "      <td>Transporter A</td>\n",
       "      <td>Mogadishu</td>\n",
       "      <td>Alger</td>\n",
       "      <td>2022-01-12</td>\n",
       "      <td>2022-01-28</td>\n",
       "      <td>Paid</td>\n",
       "      <td>Invoiced</td>\n",
       "      <td>TRANSPORTATION</td>\n",
       "      <td>31.124</td>\n",
       "      <td>600</td>\n",
       "      <td>USD</td>\n",
       "      <td>300</td>\n",
       "      <td>USD</td>\n",
       "      <td>1</td>\n",
       "      <td>1.6</td>\n",
       "      <td>2.40</td>\n",
       "      <td>2.000</td>\n",
       "      <td>16.0</td>\n",
       "    </tr>\n",
       "    <tr>\n",
       "      <th>4</th>\n",
       "      <td>DL-11</td>\n",
       "      <td>Freight forwarder ABC</td>\n",
       "      <td>Transporter A</td>\n",
       "      <td>Mombasa</td>\n",
       "      <td>Alger</td>\n",
       "      <td>2022-01-07</td>\n",
       "      <td>2022-01-28</td>\n",
       "      <td>Paid</td>\n",
       "      <td>Invoiced</td>\n",
       "      <td>TRANSPORTATION</td>\n",
       "      <td>31.124</td>\n",
       "      <td>600</td>\n",
       "      <td>USD</td>\n",
       "      <td>300</td>\n",
       "      <td>USD</td>\n",
       "      <td>1</td>\n",
       "      <td>2.1</td>\n",
       "      <td>3.15</td>\n",
       "      <td>2.625</td>\n",
       "      <td>21.0</td>\n",
       "    </tr>\n",
       "  </tbody>\n",
       "</table>\n",
       "</div>"
      ],
      "text/plain": [
       "  Entry ID      Freight forwarder    Transporter Depart From Arrive To  \\\n",
       "0     DL-1  Freight forwarder ABC  Transporter A   Mogadishu  Victoria   \n",
       "1     DL-8  Freight forwarder ABC  Transporter A   Mogadishu     Sanaa   \n",
       "2     DL-9  Freight forwarder ABC  Transporter A   Mogadishu  Victoria   \n",
       "3    DL-10  Freight forwarder ABC  Transporter A   Mogadishu     Alger   \n",
       "4    DL-11  Freight forwarder ABC  Transporter A     Mombasa     Alger   \n",
       "\n",
       "  Loading Date Offloading Date Client Invoice status  \\\n",
       "0   2022-01-07      2022-01-27              Invoiced   \n",
       "1   2022-01-03      2022-01-28                  Paid   \n",
       "2   2022-01-09      2022-01-27                  Paid   \n",
       "3   2022-01-12      2022-01-28                  Paid   \n",
       "4   2022-01-07      2022-01-28                  Paid   \n",
       "\n",
       "  Transporter Invoice status Service / Product: Product Name  Gross Weight(t)  \\\n",
       "0                   Invoiced                  TRANSPORTATION           27.108   \n",
       "1                   Invoiced                  TRANSPORTATION           31.124   \n",
       "2                   Invoiced                  TRANSPORTATION           31.124   \n",
       "3                   Invoiced                  TRANSPORTATION           31.124   \n",
       "4                   Invoiced                  TRANSPORTATION           31.124   \n",
       "\n",
       "   Client Rate per t Client Currency  Supplier Rate per t Supplier Currency  \\\n",
       "0                600             USD                  300               USD   \n",
       "1                600             USD                  300               USD   \n",
       "2                600             USD                  300               USD   \n",
       "3                600             USD                  300               USD   \n",
       "4                600             USD                  300               USD   \n",
       "\n",
       "   POD Attached  Delay at toll gate in days  Delay at workshop in days  \\\n",
       "0             1                         2.0                       3.00   \n",
       "1             0                         2.5                       3.75   \n",
       "2             1                         1.8                       2.70   \n",
       "3             1                         1.6                       2.40   \n",
       "4             1                         2.1                       3.15   \n",
       "\n",
       "   Delay at border in days  Transit Time  \n",
       "0                    2.500          20.0  \n",
       "1                    3.125          25.0  \n",
       "2                    2.250          18.0  \n",
       "3                    2.000          16.0  \n",
       "4                    2.625          21.0  "
      ]
     },
     "execution_count": 23,
     "metadata": {},
     "output_type": "execute_result"
    }
   ],
   "source": [
    "###### Convert the Excel date format to datetime\n",
    "data_database['Loading Date'] = pd.to_datetime(data_database['Loading Date'], unit='D', origin='1899-12-30')\n",
    "data_database['Offloading Date'] = pd.to_datetime(data_database['Offloading Date'], unit='D', origin='1899-12-30')\n",
    "\n",
    "# Calculate the transit time in days\n",
    "data_database['Transit Time'] = (data_database['Offloading Date'] - data_database['Loading Date']).dt.days\n",
    "\n",
    "# Display the updated DataFrame\n",
    "data_database.head()\n"
   ]
  },
  {
   "cell_type": "code",
   "execution_count": 24,
   "id": "feeb1603",
   "metadata": {},
   "outputs": [
    {
     "data": {
      "image/png": "[encoded data removed]",
      "text/plain": [
       "<Figure size 720x432 with 1 Axes>"
      ]
     },
     "metadata": {
      "needs_background": "light"
     },
     "output_type": "display_data"
    }
   ],
   "source": [
    "import matplotlib.pyplot as plt\n",
    "import seaborn as sns\n",
    "\n",
    "# Drop the column 'Unnamed: 19' as it contains only NaN values\n",
    "#data_database.drop('Unnamed: 19', axis=1, inplace=True)\n",
    "\n",
    "# Calculate total delay at each location:\n",
    "data_database['Total Delay'] = data_database['Delay at toll gate in days'] + data_database['Delay at workshop in days'] + data_database['Delay at border in days']\n",
    "\n",
    "# Plot histogram of Total Delay\n",
    "plt.figure(figsize=(10, 6))\n",
    "sns.histplot(data_database['Total Delay'], kde=False, bins=30)\n",
    "plt.title('Histogram of Total Delay')\n",
    "plt.xlabel('Total Delay (days)')\n",
    "plt.ylabel('Frequency')\n",
    "plt.show()\n"
   ]
  },
  {
   "cell_type": "code",
   "execution_count": 26,
   "id": "8da5443b",
   "metadata": {},
   "outputs": [
    {
     "data": {
      "text/plain": [
       "count    3319.000000\n",
       "mean        7.873644\n",
       "std         4.625281\n",
       "min         0.000000\n",
       "25%         4.500000\n",
       "50%         8.625000\n",
       "75%        10.500000\n",
       "max        31.500000\n",
       "Name: Total Delay, dtype: float64"
      ]
     },
     "execution_count": 26,
     "metadata": {},
     "output_type": "execute_result"
    }
   ],
   "source": [
    "data_database['Total Delay'].describe()"
   ]
  },
  {
   "cell_type": "markdown",
   "id": "14643aca",
   "metadata": {},
   "source": [
    "Insight 1: The histogram of total delay shows that the majority of shipments experience a delay between 4.5 to 10.5 days. There are very few shipments with extremely high delay times, indicating that such cases might be outliers or exceptional situations."
   ]
  },
  {
   "cell_type": "code",
   "execution_count": 27,
   "id": "d552abe3",
   "metadata": {
    "scrolled": true
   },
   "outputs": [
    {
     "data": {
      "image/png": "[encoded data removed]",
      "text/plain": [
       "<Figure size 1296x432 with 3 Axes>"
      ]
     },
     "metadata": {
      "needs_background": "light"
     },
     "output_type": "display_data"
    }
   ],
   "source": [
    "# Plot individual sources of delay\n",
    "\n",
    "plt.figure(figsize=(18, 6))\n",
    "\n",
    "# Delay at toll gate\n",
    "plt.subplot(1, 3, 1)\n",
    "sns.histplot(data_database['Delay at toll gate in days'], kde=False, bins=30, color='skyblue')\n",
    "plt.title('Histogram of Delay at Toll Gate')\n",
    "plt.xlabel('Delay at Toll Gate (days)')\n",
    "plt.ylabel('Frequency')\n",
    "\n",
    "# Delay at workshop\n",
    "plt.subplot(1, 3, 2)\n",
    "sns.histplot(data_database['Delay at workshop in days'], kde=False, bins=30, color='red')\n",
    "plt.title('Histogram of Delay at Workshop')\n",
    "plt.xlabel('Delay at Workshop (days)')\n",
    "plt.ylabel('Frequency')\n",
    "\n",
    "# Delay at border\n",
    "plt.subplot(1, 3, 3)\n",
    "sns.histplot(data_database['Delay at border in days'], kde=False, bins=30, color='green')\n",
    "plt.title('Histogram of Delay at Border')\n",
    "plt.xlabel('Delay at Border (days)')\n",
    "plt.ylabel('Frequency')\n",
    "\n",
    "plt.tight_layout()\n",
    "plt.show()\n"
   ]
  },
  {
   "cell_type": "code",
   "execution_count": 28,
   "id": "f4e99611",
   "metadata": {},
   "outputs": [
    {
     "name": "stdout",
     "output_type": "stream",
     "text": [
      "count    3319.000000\n",
      "mean        2.909551\n",
      "std         1.814267\n",
      "min         0.000000\n",
      "25%         1.500000\n",
      "50%         2.900000\n",
      "75%         4.050000\n",
      "max        12.600000\n",
      "Name: Delay at toll gate in days, dtype: float64\n",
      "count    3319.000000\n",
      "mean        2.339545\n",
      "std         1.428766\n",
      "min         0.000000\n",
      "25%         1.300000\n",
      "50%         2.300000\n",
      "75%         3.200000\n",
      "max         8.400000\n",
      "Name: Delay at workshop in days, dtype: float64\n",
      "count    3319.000000\n",
      "mean        2.624548\n",
      "std         1.541760\n",
      "min         0.000000\n",
      "25%         1.500000\n",
      "50%         2.875000\n",
      "75%         3.500000\n",
      "max        10.500000\n",
      "Name: Delay at border in days, dtype: float64\n"
     ]
    }
   ],
   "source": [
    "print(data_database['Delay at toll gate in days'].describe())\n",
    "print(data_database['Delay at workshop in days'].describe())\n",
    "print(data_database['Delay at border in days'].describe())"
   ]
  },
  {
   "cell_type": "markdown",
   "id": "ea2139ba",
   "metadata": {},
   "source": [
    "Insight 2: Delays at the toll gate, workshop, and border all follow a somewhat similar distribution, with the majority of delays falling within a certain range and fewer instances of extreme delays. This suggests that while delays do occur, they are generally kept within a manageable timeframe.\n",
    "\n",
    "Insight 3: The histogram of delays at the toll gate, workshop, and border show that these three factors contribute to the overall delay, and their distributions are quite similar. The majority of delays are concentrated around 2-4 days for each factor."
   ]
  },
  {
   "cell_type": "code",
   "execution_count": 43,
   "id": "118c1f59",
   "metadata": {},
   "outputs": [
    {
     "data": {
      "image/png": "[encoded data removed]",
      "text/plain": [
       "<Figure size 720x576 with 2 Axes>"
      ]
     },
     "metadata": {
      "needs_background": "light"
     },
     "output_type": "display_data"
    }
   ],
   "source": [
    "# Calculate the correlation matrix\n",
    "corr_matrix = data_database[['Transit Time', 'Delay at workshop in days', 'Delay at toll gate in days', \n",
    "                             'Delay at border in days']].corr()\n",
    "\n",
    "# Plot the heatmap\n",
    "plt.figure(figsize=(10, 8))\n",
    "sns.heatmap(corr_matrix, annot=True, cmap='coolwarm', fmt=\".2f\")\n",
    "plt.title('Correlation Matrix of Delays and Transit Time')\n",
    "plt.show()\n",
    "\n"
   ]
  },
  {
   "cell_type": "markdown",
   "id": "4594a0d5",
   "metadata": {},
   "source": [
    "Insight 4: The heatmap of correlations shows that the transit time is positively correlated with delays at the toll gate, workshop, and border. This means that as the delay in any of these areas increases, the overall transit time tends to increase as well.\n",
    "\n",
    "Insight 5: Delays at the workshop are most strongly correlated with the overall transit time, suggesting that reducing workshop delays could have the most substantial impact on reducing transit time. Border waiting period also has a very strong transit time efficiency issue. Slightly there is less correlation between the workshop delay and toll gate delay from the given dataset.\n",
    "\n",
    "Insight 6: There is also a strong correlation between the different types of delays, indicating that when there is a delay in one area (e.g., the workshop), there tends to be a delay in other areas as well (e.g., toll gate or border). This could suggest systemic issues in the logistics process that cause cascading delays."
   ]
  },
  {
   "cell_type": "code",
   "execution_count": 61,
   "id": "7a97c28d",
   "metadata": {},
   "outputs": [],
   "source": [
    "#Transporter:"
   ]
  },
  {
   "cell_type": "code",
   "execution_count": 60,
   "id": "10feca40",
   "metadata": {},
   "outputs": [
    {
     "data": {
      "text/plain": [
       "array(['Transporter A', 'Transporter C', 'Transporter B'], dtype=object)"
      ]
     },
     "execution_count": 60,
     "metadata": {},
     "output_type": "execute_result"
    }
   ],
   "source": [
    "data_database['Transporter'].unique()"
   ]
  },
  {
   "cell_type": "code",
   "execution_count": 62,
   "id": "fa0ae44f",
   "metadata": {
    "scrolled": true
   },
   "outputs": [
    {
     "data": {
      "image/png": "[encoded data removed]",
      "text/plain": [
       "<Figure size 1296x432 with 2 Axes>"
      ]
     },
     "metadata": {
      "needs_background": "light"
     },
     "output_type": "display_data"
    }
   ],
   "source": [
    "# Plot boxplots of transit time and total delay for each transporter\n",
    "\n",
    "plt.figure(figsize=(18, 6))\n",
    "\n",
    "# Transit time\n",
    "plt.subplot(1, 2, 1)\n",
    "sns.boxplot(x='Transporter', y='Transit Time', data=data_database)\n",
    "plt.title('Boxplot of Transit Time by Transporter')\n",
    "plt.xlabel('Transporter')\n",
    "plt.ylabel('Transit Time (days)')\n",
    "\n",
    "# Total delay\n",
    "plt.subplot(1, 2, 2)\n",
    "sns.boxplot(x='Transporter', y='Total Delay', data=data_database)\n",
    "plt.title('Boxplot of Total Delay by Transporter')\n",
    "plt.xlabel('Transporter')\n",
    "plt.ylabel('Total Delay (days)')\n",
    "\n",
    "plt.tight_layout()\n",
    "plt.show()\n"
   ]
  },
  {
   "cell_type": "code",
   "execution_count": 63,
   "id": "3eec6d55",
   "metadata": {},
   "outputs": [
    {
     "data": {
      "text/html": [
       "<div>\n",
       "<style scoped>\n",
       "    .dataframe tbody tr th:only-of-type {\n",
       "        vertical-align: middle;\n",
       "    }\n",
       "\n",
       "    .dataframe tbody tr th {\n",
       "        vertical-align: top;\n",
       "    }\n",
       "\n",
       "    .dataframe thead th {\n",
       "        text-align: right;\n",
       "    }\n",
       "</style>\n",
       "<table border=\"1\" class=\"dataframe\">\n",
       "  <thead>\n",
       "    <tr style=\"text-align: right;\">\n",
       "      <th></th>\n",
       "      <th>count</th>\n",
       "      <th>mean</th>\n",
       "      <th>std</th>\n",
       "      <th>min</th>\n",
       "      <th>25%</th>\n",
       "      <th>50%</th>\n",
       "      <th>75%</th>\n",
       "      <th>max</th>\n",
       "    </tr>\n",
       "    <tr>\n",
       "      <th>Transporter</th>\n",
       "      <th></th>\n",
       "      <th></th>\n",
       "      <th></th>\n",
       "      <th></th>\n",
       "      <th></th>\n",
       "      <th></th>\n",
       "      <th></th>\n",
       "      <th></th>\n",
       "    </tr>\n",
       "  </thead>\n",
       "  <tbody>\n",
       "    <tr>\n",
       "      <th>Transporter A</th>\n",
       "      <td>128.0</td>\n",
       "      <td>7.643555</td>\n",
       "      <td>3.398742</td>\n",
       "      <td>3.375</td>\n",
       "      <td>4.875</td>\n",
       "      <td>7.125</td>\n",
       "      <td>10.21875</td>\n",
       "      <td>22.500</td>\n",
       "    </tr>\n",
       "    <tr>\n",
       "      <th>Transporter B</th>\n",
       "      <td>2113.0</td>\n",
       "      <td>9.987636</td>\n",
       "      <td>3.357281</td>\n",
       "      <td>0.750</td>\n",
       "      <td>8.250</td>\n",
       "      <td>9.750</td>\n",
       "      <td>11.25000</td>\n",
       "      <td>28.875</td>\n",
       "    </tr>\n",
       "    <tr>\n",
       "      <th>Transporter C</th>\n",
       "      <td>1078.0</td>\n",
       "      <td>3.757305</td>\n",
       "      <td>4.087599</td>\n",
       "      <td>0.000</td>\n",
       "      <td>0.750</td>\n",
       "      <td>3.000</td>\n",
       "      <td>4.87500</td>\n",
       "      <td>31.500</td>\n",
       "    </tr>\n",
       "  </tbody>\n",
       "</table>\n",
       "</div>"
      ],
      "text/plain": [
       "                count      mean       std    min    25%    50%       75%  \\\n",
       "Transporter                                                                \n",
       "Transporter A   128.0  7.643555  3.398742  3.375  4.875  7.125  10.21875   \n",
       "Transporter B  2113.0  9.987636  3.357281  0.750  8.250  9.750  11.25000   \n",
       "Transporter C  1078.0  3.757305  4.087599  0.000  0.750  3.000   4.87500   \n",
       "\n",
       "                  max  \n",
       "Transporter            \n",
       "Transporter A  22.500  \n",
       "Transporter B  28.875  \n",
       "Transporter C  31.500  "
      ]
     },
     "execution_count": 63,
     "metadata": {},
     "output_type": "execute_result"
    }
   ],
   "source": [
    "# Calculate the descriptive statistics for Total Delay grouped by Transporter:\n",
    "delay_stats_by_transporter = data_database.groupby('Transporter')['Total Delay'].describe()\n",
    "\n",
    "# Show the statistics\n",
    "delay_stats_by_transporter"
   ]
  },
  {
   "cell_type": "markdown",
   "id": "c0d4d43d",
   "metadata": {},
   "source": [
    "Insight 7: The transit time varies significantly between different transporters, as shown in the boxplot. Some transporters tend to have shorter transit times, while others have longer transit times. The variation in transit times within each transporter (as indicated by the height of the boxes and the length of the whiskers) also suggests that there are factors other than the transporter that affect transit time.\n",
    "\n",
    "### However, Transporter C seems to have lesser delay time. Comapring transporters A and B, median value of B is higher to A, and hence Transporter B could be one variable which impact the higher transit time.\n",
    "\n",
    "Insight 8: Similarly, the total delay also varies between different transporters. Some transporters experience longer delays, while others have shorter delays. This could be due to various factors, such as the efficiency of the transporter, the routes they use, their load management practices, and so on.\n",
    "\n",
    "### Here also, Transporter B has higher delay time, looking at the analysis.\n",
    "\n",
    "Insight 9: For some transporters, there is a wide range of transit times and total delays, indicating a high level of variability in their operations. This could suggest inconsistency in their processes, potentially leading to unpredictability for customers."
   ]
  },
  {
   "cell_type": "code",
   "execution_count": 64,
   "id": "902d61ae",
   "metadata": {},
   "outputs": [],
   "source": [
    "#Gross weight and Delay at workshop, tollgate and border:"
   ]
  },
  {
   "cell_type": "code",
   "execution_count": 59,
   "id": "5693bd39",
   "metadata": {},
   "outputs": [
    {
     "data": {
      "image/png": "[encoded data removed]",
      "text/plain": [
       "<Figure size 1296x432 with 3 Axes>"
      ]
     },
     "metadata": {
      "needs_background": "light"
     },
     "output_type": "display_data"
    }
   ],
   "source": [
    "# Plot scatterplots of gross weight against each type of delay\n",
    "\n",
    "plt.figure(figsize=(18, 6))\n",
    "\n",
    "# Delay at toll gate\n",
    "plt.subplot(1, 3, 1)\n",
    "sns.scatterplot(x='Gross Weight(t)', y='Delay at toll gate in days', data=data_database)\n",
    "plt.title('Scatterplot of Gross Weight vs Delay at Toll Gate')\n",
    "plt.xlabel('Gross Weight (t)')\n",
    "plt.ylabel('Delay at Toll Gate (days)')\n",
    "\n",
    "# Delay at workshop\n",
    "plt.subplot(1, 3, 2)\n",
    "sns.scatterplot(x='Gross Weight(t)', y='Delay at workshop in days', data=data_database)\n",
    "plt.title('Scatterplot of Gross Weight vs Delay at Workshop')\n",
    "plt.xlabel('Gross Weight (t)')\n",
    "plt.ylabel('Delay at Workshop (days)')\n",
    "\n",
    "# Delay at border\n",
    "plt.subplot(1, 3, 3)\n",
    "sns.scatterplot(x='Gross Weight(t)', y='Delay at border in days', data=data_database)\n",
    "plt.title('Scatterplot of Gross Weight vs Delay at Border')\n",
    "plt.xlabel('Gross Weight (t)')\n",
    "plt.ylabel('Delay at Border (days)')\n",
    "\n",
    "plt.tight_layout()\n",
    "plt.show()\n"
   ]
  },
  {
   "cell_type": "markdown",
   "id": "322c1fe4",
   "metadata": {},
   "source": [
    "Insight 10: The scatterplots show that there is no clear relationship between the gross weight of the freight and the delays at the toll gate, workshop, or border. This suggests that the weight of the freight does not directly influence these types of delays.\n",
    "\n",
    "Insight 11: Despite the lack of a clear trend, there is a spread of delay times across different weights, indicating variability in the logistics process. This variability could be due to other factors, such as the specific route taken, the efficiency of the transporter, or external factors like weather or traffic conditions."
   ]
  },
  {
   "cell_type": "code",
   "execution_count": 65,
   "id": "d97b6fb2",
   "metadata": {},
   "outputs": [],
   "source": [
    "#POD attached and total delay:"
   ]
  },
  {
   "cell_type": "code",
   "execution_count": 66,
   "id": "da6ecf06",
   "metadata": {},
   "outputs": [
    {
     "data": {
      "text/plain": [
       "array([1, 0], dtype=int64)"
      ]
     },
     "execution_count": 66,
     "metadata": {},
     "output_type": "execute_result"
    }
   ],
   "source": [
    "data_database['POD Attached'].unique()"
   ]
  },
  {
   "cell_type": "code",
   "execution_count": 67,
   "id": "bb909f45",
   "metadata": {},
   "outputs": [],
   "source": [
    "# 1 is without POD and 0 is with POD:"
   ]
  },
  {
   "cell_type": "code",
   "execution_count": 68,
   "id": "96b817e0",
   "metadata": {},
   "outputs": [
    {
     "data": {
      "image/png": "[encoded data removed]",
      "text/plain": [
       "<Figure size 720x432 with 1 Axes>"
      ]
     },
     "metadata": {
      "needs_background": "light"
     },
     "output_type": "display_data"
    }
   ],
   "source": [
    "# Plot boxplots of total delay for shipments with and without POD\n",
    "\n",
    "plt.figure(figsize=(10, 6))\n",
    "sns.boxplot(x='POD Attached', y='Total Delay', data=data_database)\n",
    "plt.title('Boxplot of Total Delay by POD Attachment')\n",
    "plt.xlabel('POD Attached')\n",
    "plt.ylabel('Total Delay (days)')\n",
    "plt.show()\n"
   ]
  },
  {
   "cell_type": "markdown",
   "id": "baee716f",
   "metadata": {},
   "source": [
    "Insight 12: The boxplot shows that there is a significant difference in total delay between shipments with a Proof of Delivery (POD) attached and those without. Shipments without a POD tend to have longer total delays. This could suggest that the lack of a POD may lead to inefficiencies or complications in the logistics process that result in delays.\n",
    "\n",
    "Insight 13: The range of total delays is also larger for shipments without a POD, indicating a higher level of variability in these cases. \n",
    "### This could suggest that the lack of a POD makes the logistics process less predictable and more prone to unexpected delays."
   ]
  },
  {
   "cell_type": "code",
   "execution_count": 69,
   "id": "35f6c3d5",
   "metadata": {},
   "outputs": [],
   "source": [
    "#Client invoice status:"
   ]
  },
  {
   "cell_type": "code",
   "execution_count": 70,
   "id": "f2ab5ada",
   "metadata": {},
   "outputs": [
    {
     "data": {
      "text/plain": [
       "array(['Invoiced', 'Paid', nan, 'Approval Pending', 'Draft'], dtype=object)"
      ]
     },
     "execution_count": 70,
     "metadata": {},
     "output_type": "execute_result"
    }
   ],
   "source": [
    "data_database['Client Invoice status'].unique()"
   ]
  },
  {
   "cell_type": "code",
   "execution_count": 17,
   "id": "7bd28d98",
   "metadata": {
    "scrolled": true
   },
   "outputs": [
    {
     "data": {
      "image/png": "[encoded data removed]",
      "text/plain": [
       "<Figure size 720x432 with 1 Axes>"
      ]
     },
     "metadata": {
      "needs_background": "light"
     },
     "output_type": "display_data"
    }
   ],
   "source": [
    "plt.figure(figsize=(10, 6))\n",
    "sns.boxplot(x='Client Invoice status', y='Total Delay', data=data_database)\n",
    "plt.title('Boxplot of Total Delay by Client Invoice Status')\n",
    "plt.xlabel('Client Invoice Status')\n",
    "plt.ylabel('Total Delay (days)')\n",
    "plt.show()"
   ]
  },
  {
   "cell_type": "code",
   "execution_count": 58,
   "id": "8397bada",
   "metadata": {},
   "outputs": [
    {
     "data": {
      "text/html": [
       "<div>\n",
       "<style scoped>\n",
       "    .dataframe tbody tr th:only-of-type {\n",
       "        vertical-align: middle;\n",
       "    }\n",
       "\n",
       "    .dataframe tbody tr th {\n",
       "        vertical-align: top;\n",
       "    }\n",
       "\n",
       "    .dataframe thead th {\n",
       "        text-align: right;\n",
       "    }\n",
       "</style>\n",
       "<table border=\"1\" class=\"dataframe\">\n",
       "  <thead>\n",
       "    <tr style=\"text-align: right;\">\n",
       "      <th></th>\n",
       "      <th>count</th>\n",
       "      <th>mean</th>\n",
       "      <th>std</th>\n",
       "      <th>min</th>\n",
       "      <th>25%</th>\n",
       "      <th>50%</th>\n",
       "      <th>75%</th>\n",
       "      <th>max</th>\n",
       "    </tr>\n",
       "    <tr>\n",
       "      <th>Client Invoice status</th>\n",
       "      <th></th>\n",
       "      <th></th>\n",
       "      <th></th>\n",
       "      <th></th>\n",
       "      <th></th>\n",
       "      <th></th>\n",
       "      <th></th>\n",
       "      <th></th>\n",
       "    </tr>\n",
       "  </thead>\n",
       "  <tbody>\n",
       "    <tr>\n",
       "      <th>Approval Pending</th>\n",
       "      <td>5.0</td>\n",
       "      <td>1.050000</td>\n",
       "      <td>0.167705</td>\n",
       "      <td>0.750</td>\n",
       "      <td>1.1250</td>\n",
       "      <td>1.125</td>\n",
       "      <td>1.1250</td>\n",
       "      <td>1.125</td>\n",
       "    </tr>\n",
       "    <tr>\n",
       "      <th>Draft</th>\n",
       "      <td>2.0</td>\n",
       "      <td>6.750000</td>\n",
       "      <td>2.651650</td>\n",
       "      <td>4.875</td>\n",
       "      <td>5.8125</td>\n",
       "      <td>6.750</td>\n",
       "      <td>7.6875</td>\n",
       "      <td>8.625</td>\n",
       "    </tr>\n",
       "    <tr>\n",
       "      <th>Invoiced</th>\n",
       "      <td>1147.0</td>\n",
       "      <td>7.198235</td>\n",
       "      <td>4.145124</td>\n",
       "      <td>0.000</td>\n",
       "      <td>3.7500</td>\n",
       "      <td>7.875</td>\n",
       "      <td>10.5000</td>\n",
       "      <td>23.250</td>\n",
       "    </tr>\n",
       "    <tr>\n",
       "      <th>Paid</th>\n",
       "      <td>1799.0</td>\n",
       "      <td>7.893552</td>\n",
       "      <td>4.578301</td>\n",
       "      <td>0.000</td>\n",
       "      <td>4.5000</td>\n",
       "      <td>8.625</td>\n",
       "      <td>10.8750</td>\n",
       "      <td>31.500</td>\n",
       "    </tr>\n",
       "  </tbody>\n",
       "</table>\n",
       "</div>"
      ],
      "text/plain": [
       "                        count      mean       std    min     25%    50%  \\\n",
       "Client Invoice status                                                     \n",
       "Approval Pending          5.0  1.050000  0.167705  0.750  1.1250  1.125   \n",
       "Draft                     2.0  6.750000  2.651650  4.875  5.8125  6.750   \n",
       "Invoiced               1147.0  7.198235  4.145124  0.000  3.7500  7.875   \n",
       "Paid                   1799.0  7.893552  4.578301  0.000  4.5000  8.625   \n",
       "\n",
       "                           75%     max  \n",
       "Client Invoice status                   \n",
       "Approval Pending        1.1250   1.125  \n",
       "Draft                   7.6875   8.625  \n",
       "Invoiced               10.5000  23.250  \n",
       "Paid                   10.8750  31.500  "
      ]
     },
     "execution_count": 58,
     "metadata": {},
     "output_type": "execute_result"
    }
   ],
   "source": [
    "# Calculate the descriptive statistics for Total Delay grouped by Client Invoice status\n",
    "delay_stats_by_invoice_status = data_database.groupby('Client Invoice status')['Total Delay'].describe()\n",
    "\n",
    "# Show the statistics\n",
    "delay_stats_by_invoice_status"
   ]
  },
  {
   "cell_type": "markdown",
   "id": "a4043cd9",
   "metadata": {},
   "source": [
    "Insight 14: The boxplot shows some variation in total delay depending on the client invoice status. Shipments with an invoice status of 'Invoiced' and 'Paid' seems to be almost same to each other in mean, median and standard deviation. It is unable to predict whether the status of 'Paid' makes it easy for the faster delivery.\n",
    "\n",
    "Insight 15: There is also a significant amount of variability in total delay within each invoice status category, as shown by the height of the boxes and the length of the whiskers. This indicates that while invoice status may influence delay times, there are also other factors at play.\n",
    "\n",
    "Outlier reason: Outliers could be happening due to many reasons such as different routes, non-supportive weather conditions, breakdown etc.Or maybe the inconsistency in the data. Lot of outliers actually affects the mean of the data which makes it lesser or higher than the median. Hence median is used as a central tendancy for the data with many outliers.\n",
    "\n",
    "Skewness test: In our dataset, the outliers are seen more than the maximum value,however from the statistical analysis we could see that there is a symmetry. However there is a slight skew to the left which could be avoidable, as there is no much impact in the central tendency. "
   ]
  },
  {
   "cell_type": "code",
   "execution_count": 71,
   "id": "00250ae7",
   "metadata": {},
   "outputs": [],
   "source": [
    "#Client rate per t:"
   ]
  },
  {
   "cell_type": "code",
   "execution_count": 72,
   "id": "b3e44a04",
   "metadata": {},
   "outputs": [
    {
     "data": {
      "text/plain": [
       "array([ 600,  100,   20, 4000], dtype=int64)"
      ]
     },
     "execution_count": 72,
     "metadata": {},
     "output_type": "execute_result"
    }
   ],
   "source": [
    "data_database['Client Rate per t'].unique()"
   ]
  },
  {
   "cell_type": "code",
   "execution_count": 42,
   "id": "fc705cd9",
   "metadata": {},
   "outputs": [
    {
     "data": {
      "image/png": "[encoded data removed]",
      "text/plain": [
       "<Figure size 720x432 with 1 Axes>"
      ]
     },
     "metadata": {
      "needs_background": "light"
     },
     "output_type": "display_data"
    }
   ],
   "source": [
    "plt.figure(figsize=(10, 6))\n",
    "sns.boxplot(x='Client Rate per t', y='Total Delay', data=data_database)\n",
    "plt.title('Boxplot of Total Delay by Client Rate per t')\n",
    "plt.xlabel('Client Rate per t')\n",
    "plt.ylabel('Total Delay (days)')\n",
    "plt.show()"
   ]
  },
  {
   "cell_type": "code",
   "execution_count": 50,
   "id": "cca5a6cc",
   "metadata": {},
   "outputs": [
    {
     "data": {
      "text/html": [
       "<div>\n",
       "<style scoped>\n",
       "    .dataframe tbody tr th:only-of-type {\n",
       "        vertical-align: middle;\n",
       "    }\n",
       "\n",
       "    .dataframe tbody tr th {\n",
       "        vertical-align: top;\n",
       "    }\n",
       "\n",
       "    .dataframe thead th {\n",
       "        text-align: right;\n",
       "    }\n",
       "</style>\n",
       "<table border=\"1\" class=\"dataframe\">\n",
       "  <thead>\n",
       "    <tr style=\"text-align: right;\">\n",
       "      <th></th>\n",
       "      <th>count</th>\n",
       "      <th>mean</th>\n",
       "      <th>std</th>\n",
       "      <th>min</th>\n",
       "      <th>25%</th>\n",
       "      <th>50%</th>\n",
       "      <th>75%</th>\n",
       "      <th>max</th>\n",
       "    </tr>\n",
       "    <tr>\n",
       "      <th>Client Rate per t</th>\n",
       "      <th></th>\n",
       "      <th></th>\n",
       "      <th></th>\n",
       "      <th></th>\n",
       "      <th></th>\n",
       "      <th></th>\n",
       "      <th></th>\n",
       "      <th></th>\n",
       "    </tr>\n",
       "  </thead>\n",
       "  <tbody>\n",
       "    <tr>\n",
       "      <th>20</th>\n",
       "      <td>473.0</td>\n",
       "      <td>9.241808</td>\n",
       "      <td>2.566250</td>\n",
       "      <td>0.75</td>\n",
       "      <td>7.875</td>\n",
       "      <td>9.375</td>\n",
       "      <td>10.875</td>\n",
       "      <td>21.00</td>\n",
       "    </tr>\n",
       "    <tr>\n",
       "      <th>100</th>\n",
       "      <td>196.0</td>\n",
       "      <td>1.161352</td>\n",
       "      <td>1.530262</td>\n",
       "      <td>0.00</td>\n",
       "      <td>0.000</td>\n",
       "      <td>1.125</td>\n",
       "      <td>1.875</td>\n",
       "      <td>6.75</td>\n",
       "    </tr>\n",
       "    <tr>\n",
       "      <th>600</th>\n",
       "      <td>2468.0</td>\n",
       "      <td>8.725132</td>\n",
       "      <td>4.253289</td>\n",
       "      <td>0.75</td>\n",
       "      <td>5.250</td>\n",
       "      <td>9.000</td>\n",
       "      <td>10.875</td>\n",
       "      <td>31.50</td>\n",
       "    </tr>\n",
       "    <tr>\n",
       "      <th>4000</th>\n",
       "      <td>182.0</td>\n",
       "      <td>0.000000</td>\n",
       "      <td>0.000000</td>\n",
       "      <td>0.00</td>\n",
       "      <td>0.000</td>\n",
       "      <td>0.000</td>\n",
       "      <td>0.000</td>\n",
       "      <td>0.00</td>\n",
       "    </tr>\n",
       "  </tbody>\n",
       "</table>\n",
       "</div>"
      ],
      "text/plain": [
       "                    count      mean       std   min    25%    50%     75%  \\\n",
       "Client Rate per t                                                           \n",
       "20                  473.0  9.241808  2.566250  0.75  7.875  9.375  10.875   \n",
       "100                 196.0  1.161352  1.530262  0.00  0.000  1.125   1.875   \n",
       "600                2468.0  8.725132  4.253289  0.75  5.250  9.000  10.875   \n",
       "4000                182.0  0.000000  0.000000  0.00  0.000  0.000   0.000   \n",
       "\n",
       "                     max  \n",
       "Client Rate per t         \n",
       "20                 21.00  \n",
       "100                 6.75  \n",
       "600                31.50  \n",
       "4000                0.00  "
      ]
     },
     "execution_count": 50,
     "metadata": {},
     "output_type": "execute_result"
    }
   ],
   "source": [
    "# Calculate the descriptive statistics for Total Delay grouped by Client rate per t:\n",
    "delay_stats_by_client_rate = data_database.groupby('Client Rate per t')['Total Delay'].describe()\n",
    "\n",
    "# Show the statistics\n",
    "delay_stats_by_client_rate"
   ]
  },
  {
   "cell_type": "code",
   "execution_count": 48,
   "id": "5d2c8cc0",
   "metadata": {},
   "outputs": [
    {
     "data": {
      "text/plain": [
       "array([ 600,  100,   20, 4000], dtype=int64)"
      ]
     },
     "execution_count": 48,
     "metadata": {},
     "output_type": "execute_result"
    }
   ],
   "source": [
    "data_database['Client Rate per t'].unique()"
   ]
  },
  {
   "cell_type": "markdown",
   "id": "c33a5ab4",
   "metadata": {},
   "source": [
    "Insight 16: The client rate per ton with '600 USD' seems to have higher median compared to others. Hence reducing the price could be one of the ways to resolve this issue. In the case of 600 USD, we have more outliers but the data is symmetric.\n",
    "\n",
    "Even though we cannot explain anything much comparing the mean and median of 20 and 600 USD which are slight close to each other, standard deviation of 600 USD seems to be more spreaded out compared to 20 USD. Hence the predictability of 20 USD is better than 600 USD."
   ]
  },
  {
   "cell_type": "code",
   "execution_count": 73,
   "id": "93dc094d",
   "metadata": {},
   "outputs": [],
   "source": [
    "#SUpplier rate per t:"
   ]
  },
  {
   "cell_type": "code",
   "execution_count": 75,
   "id": "ddd8b443",
   "metadata": {},
   "outputs": [
    {
     "data": {
      "text/plain": [
       "array([ 300, 2000,   10,   80, 2500], dtype=int64)"
      ]
     },
     "execution_count": 75,
     "metadata": {},
     "output_type": "execute_result"
    }
   ],
   "source": [
    "data_database['Supplier Rate per t'].unique()"
   ]
  },
  {
   "cell_type": "code",
   "execution_count": 49,
   "id": "fa5aa044",
   "metadata": {},
   "outputs": [
    {
     "data": {
      "image/png": "[encoded data removed]",
      "text/plain": [
       "<Figure size 720x432 with 1 Axes>"
      ]
     },
     "metadata": {
      "needs_background": "light"
     },
     "output_type": "display_data"
    }
   ],
   "source": [
    "plt.figure(figsize=(10, 6))\n",
    "sns.boxplot(x='Supplier Rate per t', y='Total Delay', data=data_database)\n",
    "plt.title('Boxplot of Total Delay by Supplier Rate per t')\n",
    "plt.xlabel('Supplier Rate per t')\n",
    "plt.ylabel('Total Delay (days)')\n",
    "plt.show()"
   ]
  },
  {
   "cell_type": "code",
   "execution_count": 51,
   "id": "74a68362",
   "metadata": {},
   "outputs": [
    {
     "data": {
      "text/html": [
       "<div>\n",
       "<style scoped>\n",
       "    .dataframe tbody tr th:only-of-type {\n",
       "        vertical-align: middle;\n",
       "    }\n",
       "\n",
       "    .dataframe tbody tr th {\n",
       "        vertical-align: top;\n",
       "    }\n",
       "\n",
       "    .dataframe thead th {\n",
       "        text-align: right;\n",
       "    }\n",
       "</style>\n",
       "<table border=\"1\" class=\"dataframe\">\n",
       "  <thead>\n",
       "    <tr style=\"text-align: right;\">\n",
       "      <th></th>\n",
       "      <th>count</th>\n",
       "      <th>mean</th>\n",
       "      <th>std</th>\n",
       "      <th>min</th>\n",
       "      <th>25%</th>\n",
       "      <th>50%</th>\n",
       "      <th>75%</th>\n",
       "      <th>max</th>\n",
       "    </tr>\n",
       "    <tr>\n",
       "      <th>Supplier Rate per t</th>\n",
       "      <th></th>\n",
       "      <th></th>\n",
       "      <th></th>\n",
       "      <th></th>\n",
       "      <th></th>\n",
       "      <th></th>\n",
       "      <th></th>\n",
       "      <th></th>\n",
       "    </tr>\n",
       "  </thead>\n",
       "  <tbody>\n",
       "    <tr>\n",
       "      <th>10</th>\n",
       "      <td>473.0</td>\n",
       "      <td>9.241808</td>\n",
       "      <td>2.566250</td>\n",
       "      <td>0.75</td>\n",
       "      <td>7.875</td>\n",
       "      <td>9.375</td>\n",
       "      <td>10.875</td>\n",
       "      <td>21.000</td>\n",
       "    </tr>\n",
       "    <tr>\n",
       "      <th>80</th>\n",
       "      <td>148.0</td>\n",
       "      <td>1.127534</td>\n",
       "      <td>0.913857</td>\n",
       "      <td>0.00</td>\n",
       "      <td>0.000</td>\n",
       "      <td>1.125</td>\n",
       "      <td>2.250</td>\n",
       "      <td>2.625</td>\n",
       "    </tr>\n",
       "    <tr>\n",
       "      <th>300</th>\n",
       "      <td>2468.0</td>\n",
       "      <td>8.725132</td>\n",
       "      <td>4.253289</td>\n",
       "      <td>0.75</td>\n",
       "      <td>5.250</td>\n",
       "      <td>9.000</td>\n",
       "      <td>10.875</td>\n",
       "      <td>31.500</td>\n",
       "    </tr>\n",
       "    <tr>\n",
       "      <th>2000</th>\n",
       "      <td>48.0</td>\n",
       "      <td>1.265625</td>\n",
       "      <td>2.662489</td>\n",
       "      <td>0.00</td>\n",
       "      <td>0.000</td>\n",
       "      <td>0.000</td>\n",
       "      <td>0.000</td>\n",
       "      <td>6.750</td>\n",
       "    </tr>\n",
       "    <tr>\n",
       "      <th>2500</th>\n",
       "      <td>182.0</td>\n",
       "      <td>0.000000</td>\n",
       "      <td>0.000000</td>\n",
       "      <td>0.00</td>\n",
       "      <td>0.000</td>\n",
       "      <td>0.000</td>\n",
       "      <td>0.000</td>\n",
       "      <td>0.000</td>\n",
       "    </tr>\n",
       "  </tbody>\n",
       "</table>\n",
       "</div>"
      ],
      "text/plain": [
       "                      count      mean       std   min    25%    50%     75%  \\\n",
       "Supplier Rate per t                                                           \n",
       "10                    473.0  9.241808  2.566250  0.75  7.875  9.375  10.875   \n",
       "80                    148.0  1.127534  0.913857  0.00  0.000  1.125   2.250   \n",
       "300                  2468.0  8.725132  4.253289  0.75  5.250  9.000  10.875   \n",
       "2000                   48.0  1.265625  2.662489  0.00  0.000  0.000   0.000   \n",
       "2500                  182.0  0.000000  0.000000  0.00  0.000  0.000   0.000   \n",
       "\n",
       "                        max  \n",
       "Supplier Rate per t          \n",
       "10                   21.000  \n",
       "80                    2.625  \n",
       "300                  31.500  \n",
       "2000                  6.750  \n",
       "2500                  0.000  "
      ]
     },
     "execution_count": 51,
     "metadata": {},
     "output_type": "execute_result"
    }
   ],
   "source": [
    "# Calculate the descriptive statistics for Total Delay grouped by Supplier rate by t:\n",
    "delay_stats_by_supplier_rate = data_database.groupby('Supplier Rate per t')['Total Delay'].describe()\n",
    "\n",
    "# Show the statistics\n",
    "delay_stats_by_supplier_rate"
   ]
  },
  {
   "cell_type": "markdown",
   "id": "f5eba3e2",
   "metadata": {},
   "source": [
    "Insight 17: Rates 10 and 300 USD has more delay times. Exactly it is tough to find out the reasons behind it, because the rate 80 seems to have drastically lesser delay times. However standard deviation of 300 seems to be higher compared to 10, which shows that the delay times are more spread out around the mean for 300 USD. We can conclude that delay times of 10 USD is more predictable than 300 USD."
   ]
  },
  {
   "cell_type": "code",
   "execution_count": 76,
   "id": "4d61360b",
   "metadata": {},
   "outputs": [],
   "source": [
    "#Transporter invoice status:"
   ]
  },
  {
   "cell_type": "code",
   "execution_count": 77,
   "id": "29b86835",
   "metadata": {},
   "outputs": [
    {
     "data": {
      "text/plain": [
       "array(['Invoiced', 'Paid', nan, 'Approval Pending', 'Draft'], dtype=object)"
      ]
     },
     "execution_count": 77,
     "metadata": {},
     "output_type": "execute_result"
    }
   ],
   "source": [
    "data_database['Transporter Invoice status'].unique()"
   ]
  },
  {
   "cell_type": "code",
   "execution_count": 78,
   "id": "acf732d7",
   "metadata": {},
   "outputs": [
    {
     "data": {
      "image/png": "[encoded data removed]",
      "text/plain": [
       "<Figure size 720x432 with 1 Axes>"
      ]
     },
     "metadata": {
      "needs_background": "light"
     },
     "output_type": "display_data"
    }
   ],
   "source": [
    "plt.figure(figsize=(10, 6))\n",
    "sns.boxplot(x='Transporter Invoice status', y='Total Delay', data=data_database)\n",
    "plt.title('Boxplot of Total Delay by Transporter Invoice Status')\n",
    "plt.xlabel('Transporter Invoice Status')\n",
    "plt.ylabel('Total Delay (days)')\n",
    "plt.show()"
   ]
  },
  {
   "cell_type": "code",
   "execution_count": 79,
   "id": "fb117716",
   "metadata": {},
   "outputs": [
    {
     "data": {
      "text/html": [
       "<div>\n",
       "<style scoped>\n",
       "    .dataframe tbody tr th:only-of-type {\n",
       "        vertical-align: middle;\n",
       "    }\n",
       "\n",
       "    .dataframe tbody tr th {\n",
       "        vertical-align: top;\n",
       "    }\n",
       "\n",
       "    .dataframe thead th {\n",
       "        text-align: right;\n",
       "    }\n",
       "</style>\n",
       "<table border=\"1\" class=\"dataframe\">\n",
       "  <thead>\n",
       "    <tr style=\"text-align: right;\">\n",
       "      <th></th>\n",
       "      <th>count</th>\n",
       "      <th>mean</th>\n",
       "      <th>std</th>\n",
       "      <th>min</th>\n",
       "      <th>25%</th>\n",
       "      <th>50%</th>\n",
       "      <th>75%</th>\n",
       "      <th>max</th>\n",
       "    </tr>\n",
       "    <tr>\n",
       "      <th>Transporter Invoice status</th>\n",
       "      <th></th>\n",
       "      <th></th>\n",
       "      <th></th>\n",
       "      <th></th>\n",
       "      <th></th>\n",
       "      <th></th>\n",
       "      <th></th>\n",
       "      <th></th>\n",
       "    </tr>\n",
       "  </thead>\n",
       "  <tbody>\n",
       "    <tr>\n",
       "      <th>Approval Pending</th>\n",
       "      <td>102.0</td>\n",
       "      <td>8.297794</td>\n",
       "      <td>2.427797</td>\n",
       "      <td>3.750</td>\n",
       "      <td>5.71875</td>\n",
       "      <td>9.000</td>\n",
       "      <td>10.125</td>\n",
       "      <td>13.500</td>\n",
       "    </tr>\n",
       "    <tr>\n",
       "      <th>Draft</th>\n",
       "      <td>32.0</td>\n",
       "      <td>4.968750</td>\n",
       "      <td>2.710865</td>\n",
       "      <td>2.625</td>\n",
       "      <td>3.00000</td>\n",
       "      <td>3.750</td>\n",
       "      <td>6.000</td>\n",
       "      <td>12.750</td>\n",
       "    </tr>\n",
       "    <tr>\n",
       "      <th>Invoiced</th>\n",
       "      <td>2045.0</td>\n",
       "      <td>7.782396</td>\n",
       "      <td>5.029992</td>\n",
       "      <td>0.000</td>\n",
       "      <td>4.12500</td>\n",
       "      <td>8.250</td>\n",
       "      <td>10.875</td>\n",
       "      <td>31.500</td>\n",
       "    </tr>\n",
       "    <tr>\n",
       "      <th>Paid</th>\n",
       "      <td>601.0</td>\n",
       "      <td>9.195300</td>\n",
       "      <td>3.494147</td>\n",
       "      <td>0.750</td>\n",
       "      <td>7.87500</td>\n",
       "      <td>9.375</td>\n",
       "      <td>11.250</td>\n",
       "      <td>28.875</td>\n",
       "    </tr>\n",
       "  </tbody>\n",
       "</table>\n",
       "</div>"
      ],
      "text/plain": [
       "                             count      mean       std    min      25%    50%  \\\n",
       "Transporter Invoice status                                                      \n",
       "Approval Pending             102.0  8.297794  2.427797  3.750  5.71875  9.000   \n",
       "Draft                         32.0  4.968750  2.710865  2.625  3.00000  3.750   \n",
       "Invoiced                    2045.0  7.782396  5.029992  0.000  4.12500  8.250   \n",
       "Paid                         601.0  9.195300  3.494147  0.750  7.87500  9.375   \n",
       "\n",
       "                               75%     max  \n",
       "Transporter Invoice status                  \n",
       "Approval Pending            10.125  13.500  \n",
       "Draft                        6.000  12.750  \n",
       "Invoiced                    10.875  31.500  \n",
       "Paid                        11.250  28.875  "
      ]
     },
     "execution_count": 79,
     "metadata": {},
     "output_type": "execute_result"
    }
   ],
   "source": [
    "# Calculate the descriptive statistics for Total Delay grouped by Transporter Invoice status\n",
    "delay_stats_by_trans_invoice_status = data_database.groupby('Transporter Invoice status')['Total Delay'].describe()\n",
    "\n",
    "# Show the statistics\n",
    "delay_stats_by_trans_invoice_status"
   ]
  },
  {
   "cell_type": "markdown",
   "id": "094c3961",
   "metadata": {},
   "source": [
    "Insight 18: From the analysis, apart from 'Draft' all others seems to have closer median values.\n",
    "\n",
    "However, standard deviation of 'Paid' seems to be having outliers on both sides. The presence of outliers on both sides can impact the interpretation of the data. It indicates that there are values that are significantly different from the majority of the data points, and they can potentially affect the overall statistics and conclusions drawn from the data.\n",
    "\n",
    "#### However, majority of delays are for 'Invoiced', between 4.12 and 10.87. Making the status paid will reduce the delays."
   ]
  },
  {
   "cell_type": "code",
   "execution_count": 82,
   "id": "283c9058",
   "metadata": {},
   "outputs": [],
   "source": [
    "#Depart From:"
   ]
  },
  {
   "cell_type": "code",
   "execution_count": 81,
   "id": "c2a39768",
   "metadata": {},
   "outputs": [
    {
     "data": {
      "text/plain": [
       "array(['Mogadishu', 'Mombasa', 'Marrakech', 'Addis Ababa', 'Zanzibar'],\n",
       "      dtype=object)"
      ]
     },
     "execution_count": 81,
     "metadata": {},
     "output_type": "execute_result"
    }
   ],
   "source": [
    "data_database['Depart From'].unique()"
   ]
  },
  {
   "cell_type": "code",
   "execution_count": 85,
   "id": "383777ee",
   "metadata": {},
   "outputs": [
    {
     "data": {
      "image/png": "[encoded data removed]",
      "text/plain": [
       "<Figure size 720x432 with 1 Axes>"
      ]
     },
     "metadata": {
      "needs_background": "light"
     },
     "output_type": "display_data"
    }
   ],
   "source": [
    "plt.figure(figsize=(10, 6))\n",
    "sns.boxplot(x='Depart From', y='Total Delay', data=data_database)\n",
    "plt.title('Boxplot of Total Delay by Depart From')\n",
    "plt.xlabel('Depart From')\n",
    "plt.ylabel('Total Delay (days)')\n",
    "plt.show()"
   ]
  },
  {
   "cell_type": "code",
   "execution_count": 86,
   "id": "c1fb0462",
   "metadata": {},
   "outputs": [
    {
     "data": {
      "image/png": "[encoded data removed]",
      "text/plain": [
       "<Figure size 720x432 with 1 Axes>"
      ]
     },
     "metadata": {
      "needs_background": "light"
     },
     "output_type": "display_data"
    }
   ],
   "source": [
    "plt.figure(figsize=(10, 6))\n",
    "sns.boxplot(x='Arrive To', y='Total Delay', data=data_database)\n",
    "plt.title('Boxplot of Total Delay by Arrive To')\n",
    "plt.xlabel('Arrive To')\n",
    "plt.ylabel('Total Delay (days)')\n",
    "plt.show()"
   ]
  },
  {
   "cell_type": "markdown",
   "id": "5bd692ff",
   "metadata": {},
   "source": [
    "#### Both variables 'Arrive To' and 'Transport From' seems to have same statistics, hence shall be avoided from the analytics."
   ]
  },
  {
   "cell_type": "code",
   "execution_count": null,
   "id": "5ec8f624",
   "metadata": {},
   "outputs": [],
   "source": []
  }
 ],
 "metadata": {
  "kernelspec": {
   "display_name": "Python 3 (ipykernel)",
   "language": "python",
   "name": "python3"
  },
  "language_info": {
   "codemirror_mode": {
    "name": "ipython",
    "version": 3
   },
   "file_extension": ".py",
   "mimetype": "text/x-python",
   "name": "python",
   "nbconvert_exporter": "python",
   "pygments_lexer": "ipython3",
   "version": "3.9.12"
  }
 },
 "nbformat": 4,
 "nbformat_minor": 5
}
